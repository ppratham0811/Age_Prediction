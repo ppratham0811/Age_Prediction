{
 "cells": [
  {
   "cell_type": "code",
   "execution_count": 1,
   "source": [
    "import tensorflow as tf\r\n",
    "import pandas as pd\r\n",
    "import numpy as np\r\n",
    "import os\r\n",
    "import cv2"
   ],
   "outputs": [
    {
     "output_type": "error",
     "ename": "ModuleNotFoundError",
     "evalue": "No module named 'tensorflow'",
     "traceback": [
      "\u001b[1;31m---------------------------------------------------------------------------\u001b[0m",
      "\u001b[1;31mModuleNotFoundError\u001b[0m                       Traceback (most recent call last)",
      "\u001b[1;32m<ipython-input-1-5f8190015e14>\u001b[0m in \u001b[0;36m<module>\u001b[1;34m\u001b[0m\n\u001b[1;32m----> 1\u001b[1;33m \u001b[1;32mimport\u001b[0m \u001b[0mtensorflow\u001b[0m \u001b[1;32mas\u001b[0m \u001b[0mtf\u001b[0m\u001b[1;33m\u001b[0m\u001b[1;33m\u001b[0m\u001b[0m\n\u001b[0m\u001b[0;32m      2\u001b[0m \u001b[1;32mimport\u001b[0m \u001b[0mpandas\u001b[0m \u001b[1;32mas\u001b[0m \u001b[0mpd\u001b[0m\u001b[1;33m\u001b[0m\u001b[1;33m\u001b[0m\u001b[0m\n\u001b[0;32m      3\u001b[0m \u001b[1;32mimport\u001b[0m \u001b[0mnumpy\u001b[0m \u001b[1;32mas\u001b[0m \u001b[0mnp\u001b[0m\u001b[1;33m\u001b[0m\u001b[1;33m\u001b[0m\u001b[0m\n\u001b[0;32m      4\u001b[0m \u001b[1;32mimport\u001b[0m \u001b[0mos\u001b[0m\u001b[1;33m\u001b[0m\u001b[1;33m\u001b[0m\u001b[0m\n\u001b[0;32m      5\u001b[0m \u001b[1;32mimport\u001b[0m \u001b[0mcv2\u001b[0m\u001b[1;33m\u001b[0m\u001b[1;33m\u001b[0m\u001b[0m\n",
      "\u001b[1;31mModuleNotFoundError\u001b[0m: No module named 'tensorflow'"
     ]
    }
   ],
   "metadata": {}
  },
  {
   "cell_type": "code",
   "execution_count": null,
   "source": [
    "from keras.models import model_from_json\r\n",
    "json_file=open(\"Puffy.json\",\"r\")\r\n",
    "model_puffy_json=json_file.read()\r\n",
    "json_file.close()\r\n",
    "puffy_model=model_from_json(model_puffy_json)\r\n",
    "puffy_model.load_weights(\"PuffyWeights.h5\")\r\n",
    "print(\"Loaded puffy_model successfully\")"
   ],
   "outputs": [
    {
     "output_type": "stream",
     "name": "stdout",
     "text": [
      "Loaded puffy_model successfully\n"
     ]
    }
   ],
   "metadata": {}
  },
  {
   "cell_type": "code",
   "execution_count": null,
   "source": [
    "json_file=open(\"Wrinkle.json\",\"r\")\r\n",
    "model_wrinkle_json=json_file.read()\r\n",
    "json_file.close()\r\n",
    "wrinkle_model=model_from_json(model_wrinkle_json)\r\n",
    "wrinkle_model.load_weights(\"WrinkleWeights.h5\")\r\n",
    "print(\"Loaded wrinkle_model successfully\")"
   ],
   "outputs": [
    {
     "output_type": "stream",
     "name": "stdout",
     "text": [
      "Loaded wrinkle_model successfully\n"
     ]
    }
   ],
   "metadata": {}
  },
  {
   "cell_type": "code",
   "execution_count": null,
   "source": [
    "json_file=open(\"DarkSpots.json\",\"r\")\r\n",
    "model_DarkSpots_json=json_file.read()\r\n",
    "json_file.close()\r\n",
    "DarkSpots_model=model_from_json(model_DarkSpots_json)\r\n",
    "DarkSpots_model.load_weights(\"DarkSpotsWeights.h5\")\r\n",
    "print(\"Loaded DarkSpots_model successfully\")"
   ],
   "outputs": [
    {
     "output_type": "stream",
     "name": "stdout",
     "text": [
      "Loaded DarkSpots_model successfully\n"
     ]
    }
   ],
   "metadata": {}
  },
  {
   "cell_type": "code",
   "execution_count": null,
   "source": [
    "def getPuffyClass(classNo):\r\n",
    "    if classNo == 0: return \"No Puffy Eyes\"\r\n",
    "    elif classNo == 1: return \"Puffy Eyes\""
   ],
   "outputs": [],
   "metadata": {}
  },
  {
   "cell_type": "code",
   "execution_count": null,
   "source": [
    "def getWrinkleClass(classNo):\r\n",
    "    if classNo == 0: return \"No Wrinkles\"\r\n",
    "    elif classNo == 1: return \"Wrinkled\""
   ],
   "outputs": [],
   "metadata": {}
  },
  {
   "cell_type": "code",
   "execution_count": null,
   "source": [
    "def getDarkSpotsClass(classNo):\r\n",
    "    if classNo == 0: return \"No Dark Spots\"\r\n",
    "    elif classNo == 1: return \"Dark Spots\""
   ],
   "outputs": [],
   "metadata": {}
  },
  {
   "cell_type": "code",
   "execution_count": null,
   "source": [
    "def preprocessing(image):\r\n",
    "    image=cv2.cvtColor(image,cv2.COLOR_BGR2GRAY)\r\n",
    "    image=image/255\r\n",
    "    return image"
   ],
   "outputs": [],
   "metadata": {}
  },
  {
   "cell_type": "code",
   "execution_count": null,
   "source": [
    "face_cascade=cv2.CascadeClassifier(\"haarcascade_frontalface_default.xml\")\r\n",
    "eye_cascade = cv2.CascadeClassifier(\"haarcascade_eye.xml\")"
   ],
   "outputs": [],
   "metadata": {}
  },
  {
   "cell_type": "code",
   "execution_count": null,
   "source": [
    "image_path=\"Desktop/cricket.jpg\""
   ],
   "outputs": [],
   "metadata": {}
  },
  {
   "cell_type": "code",
   "execution_count": null,
   "source": [
    "images=[]\r\n",
    "test=[]\r\n",
    "for i in range(3):\r\n",
    "    images.append(cv2.imread(image_path))"
   ],
   "outputs": [],
   "metadata": {}
  },
  {
   "cell_type": "code",
   "execution_count": null,
   "source": [
    "images=np.array(images)"
   ],
   "outputs": [],
   "metadata": {}
  },
  {
   "cell_type": "code",
   "execution_count": null,
   "source": [
    "len(images)"
   ],
   "outputs": [
    {
     "output_type": "execute_result",
     "data": {
      "text/plain": [
       "3"
      ]
     },
     "metadata": {},
     "execution_count": 13
    }
   ],
   "metadata": {}
  },
  {
   "cell_type": "code",
   "execution_count": null,
   "source": [
    "images.shape"
   ],
   "outputs": [
    {
     "output_type": "execute_result",
     "data": {
      "text/plain": [
       "(3, 580, 1069, 3)"
      ]
     },
     "metadata": {},
     "execution_count": 14
    }
   ],
   "metadata": {}
  },
  {
   "cell_type": "code",
   "execution_count": null,
   "source": [
    "for i in range(3):\r\n",
    "    test.append(cv2.cvtColor(images[i],cv2.COLOR_BGR2GRAY))    "
   ],
   "outputs": [],
   "metadata": {}
  },
  {
   "cell_type": "code",
   "execution_count": null,
   "source": [
    "test=np.array(test)"
   ],
   "outputs": [],
   "metadata": {}
  },
  {
   "cell_type": "code",
   "execution_count": null,
   "source": [
    "cv2.imshow(\"Fauci\",test[0])\r\n",
    "cv2.waitKey(5000)\r\n",
    "cv2.destroyAllWindows()"
   ],
   "outputs": [],
   "metadata": {}
  },
  {
   "cell_type": "code",
   "execution_count": null,
   "source": [
    "faces = face_cascade.detectMultiScale(test[0],1.3,5)"
   ],
   "outputs": [],
   "metadata": {}
  },
  {
   "cell_type": "code",
   "execution_count": null,
   "source": [
    "# Testing for wrinkles\r\n",
    "for (x,y,w,h) in faces:\r\n",
    "    img=images[0][x:x+w,y:y+h]\r\n",
    "    imagearr=cv2.resize(img,(100,100))\r\n",
    "    imagearr=preprocessing(imagearr)\r\n",
    "    imagearr=imagearr.reshape((1,100,100,1)) \r\n",
    "    predictions=wrinkle_model.predict(imagearr)\r\n",
    "    classIndex=wrinkle_model.predict_classes(imagearr)\r\n",
    "    probValue=np.amax(predictions)\r\n",
    "    cv2.putText(images[0],\"Class: \",(20,25),cv2.FONT_HERSHEY_SIMPLEX,1,(0,0,255)) \r\n",
    "    cv2.putText(images[0],\"Probability: \",(20,65),cv2.FONT_HERSHEY_SIMPLEX,1,(0,0,255))\r\n",
    "    if probValue>0.75:\r\n",
    "        cv2.rectangle(images[0],(x,y),(x+w,y+h),(0,255,0),2)\r\n",
    "        cv2.putText(images[0],getWrinkleClass(classIndex),(120,25),cv2.FONT_HERSHEY_SIMPLEX,1,(0,0,255),1)\r\n",
    "        cv2.putText(images[0],str(int(probValue*100))+\" %\",(200,65),cv2.FONT_HERSHEY_SIMPLEX,1,(0,0,255),2)\r\n",
    "    cv2.imshow(\"Wrinkle Prediction\",images[0])\r\n",
    "    key=cv2.waitKey(0)\r\n",
    "    if key==ord(\"\\r\"):\r\n",
    "        cv2.destroyAllWindows()"
   ],
   "outputs": [
    {
     "output_type": "stream",
     "name": "stderr",
     "text": [
      "C:\\Users\\SANTHOSH\\anaconda3\\lib\\site-packages\\keras\\engine\\sequential.py:450: UserWarning: `model.predict_classes()` is deprecated and will be removed after 2021-01-01. Please use instead:* `np.argmax(model.predict(x), axis=-1)`,   if your model does multi-class classification   (e.g. if it uses a `softmax` last-layer activation).* `(model.predict(x) > 0.5).astype(\"int32\")`,   if your model does binary classification   (e.g. if it uses a `sigmoid` last-layer activation).\n",
      "  warnings.warn('`model.predict_classes()` is deprecated and '\n"
     ]
    }
   ],
   "metadata": {}
  },
  {
   "cell_type": "code",
   "execution_count": null,
   "source": [
    "# Testing for puffy eyes\r\n",
    "for (x,y,w,h) in faces:\r\n",
    "    roi_gray = images[1][y:y+h, x:x+w]\r\n",
    "    roi_color = images[1][y:y+h, x:x+w]\r\n",
    "    eyes = eye_cascade.detectMultiScale(roi_gray)\r\n",
    "    for (ex,ey,ew,eh) in eyes:\r\n",
    "        eye=roi_color[ex:ex+ew,ey:ey+eh]\r\n",
    "        imagearr=eye\r\n",
    "        imagearr=cv2.resize(imagearr,(100,100))\r\n",
    "        imagearr=preprocessing(imagearr)\r\n",
    "        imagearr=imagearr.reshape((1,100,100,1)) \r\n",
    "        predictions=puffy_model.predict(imagearr)\r\n",
    "        classIndex=puffy_model.predict_classes(imagearr)\r\n",
    "        probValue=np.amax(predictions)\r\n",
    "        cv2.putText(images[1],\"Class: \",(20,25),cv2.FONT_HERSHEY_SIMPLEX,1,(0,0,255)) \r\n",
    "        cv2.putText(images[1],\"Probability: \",(20,65),cv2.FONT_HERSHEY_SIMPLEX,1,(0,0,255))\r\n",
    "        if probValue>0.75:\r\n",
    "            cv2.putText(images[1],getPuffyClass(classIndex),(120,25),cv2.FONT_HERSHEY_SIMPLEX,1,(0,0,255),1)\r\n",
    "            cv2.putText(images[1],str(int(probValue*100))+\" %\",(200,65),cv2.FONT_HERSHEY_SIMPLEX,1,(0,0,255),2)\r\n",
    "            for (ex,ey,ew,eh) in eyes:\r\n",
    "                imgarr=roi_color[ex:ex+ew,ey:ey+eh]\r\n",
    "                cv2.rectangle(roi_color,(ex,ey),(ex+ew,ey+eh),(0,255,0),2)  \r\n",
    "            break    \r\n",
    "    cv2.imshow(\"Puffy Eyes Prediction\",images[1])\r\n",
    "    key = cv2.waitKey(0)\r\n",
    "    if key==ord(\"\\r\"):\r\n",
    "        cv2.destroyAllWindows()"
   ],
   "outputs": [],
   "metadata": {}
  },
  {
   "cell_type": "code",
   "execution_count": null,
   "source": [
    "# Testing for Dark Spots\r\n",
    "for (x,y,w,h) in faces:\r\n",
    "    img=images[2][x:x+w,y:y+h]\r\n",
    "    imagearr=cv2.resize(img,(100,100))\r\n",
    "    imagearr=preprocessing(imagearr)\r\n",
    "    imagearr=imagearr.reshape((1,100,100,1)) \r\n",
    "    predictions=DarkSpots_model.predict(imagearr)\r\n",
    "    classIndex=DarkSpots_model.predict_classes(imagearr)\r\n",
    "    probValue=np.amax(predictions)\r\n",
    "    cv2.putText(images[2],\"Class: \",(20,25),cv2.FONT_HERSHEY_SIMPLEX,1,(0,0,255)) \r\n",
    "    cv2.putText(images[2],\"Probability: \",(20,65),cv2.FONT_HERSHEY_SIMPLEX,1,(0,0,255))\r\n",
    "    if probValue>0.75:\r\n",
    "        cv2.rectangle(images[2],(x,y),(x+w,y+h),(0,255,0),2)\r\n",
    "        cv2.putText(images[2],getDarkSpotsClass(classIndex),(120,25),cv2.FONT_HERSHEY_SIMPLEX,1,(0,0,255),1)\r\n",
    "        cv2.putText(images[2],str(int(probValue*100))+\" %\",(200,65),cv2.FONT_HERSHEY_SIMPLEX,1,(0,0,255),2)\r\n",
    "    cv2.imshow(\"Dark Spots Prediction\",images[2])\r\n",
    "    key=cv2.waitKey(0)\r\n",
    "    if key==ord(\"\\r\"):\r\n",
    "        cv2.destroyAllWindows()"
   ],
   "outputs": [],
   "metadata": {}
  },
  {
   "cell_type": "code",
   "execution_count": null,
   "source": [
    "for i in range(3):\r\n",
    "    cv2.imshow(\"Face\",images[i])\r\n",
    "    cv2.waitKey(5000)\r\n",
    "    cv2.destroyAllWindows()"
   ],
   "outputs": [],
   "metadata": {}
  }
 ],
 "metadata": {
  "kernelspec": {
   "name": "python3",
   "display_name": "Python 3.9.6 64-bit"
  },
  "language_info": {
   "codemirror_mode": {
    "name": "ipython",
    "version": 3
   },
   "file_extension": ".py",
   "mimetype": "text/x-python",
   "name": "python",
   "nbconvert_exporter": "python",
   "pygments_lexer": "ipython3",
   "version": "3.9.6"
  },
  "interpreter": {
   "hash": "3b82fdc0e62abea5493f17018c9d70bf823b5c5a849c9d1b1a439233b4b26bd9"
  }
 },
 "nbformat": 4,
 "nbformat_minor": 5
}