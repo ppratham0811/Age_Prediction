{
 "cells": [
  {
   "cell_type": "code",
   "execution_count": 1,
   "source": [
    "import tensorflow as tf\r\n",
    "import pandas as pd\r\n",
    "import numpy as np\r\n",
    "import os\r\n",
    "import cv2"
   ],
   "outputs": [],
   "metadata": {}
  },
  {
   "cell_type": "code",
   "execution_count": 2,
   "source": [
    "folder_list=os.listdir(\"Image/darkspots\")"
   ],
   "outputs": [],
   "metadata": {}
  },
  {
   "cell_type": "code",
   "execution_count": 3,
   "source": [
    "folder_list"
   ],
   "outputs": [
    {
     "output_type": "execute_result",
     "data": {
      "text/plain": [
       "['DarkSpots', 'NoDarkSpots']"
      ]
     },
     "metadata": {},
     "execution_count": 3
    }
   ],
   "metadata": {}
  },
  {
   "cell_type": "code",
   "execution_count": 4,
   "source": [
    "features_train=[]\r\n",
    "target_train=[]\r\n",
    "for folder in folder_list:\r\n",
    "    ImgNames_list=os.listdir(\"Image/darkspots\"+\"/\"+folder)\r\n",
    "    print(\"In Folder : \",folder)\r\n",
    "    for imgName in ImgNames_list:\r\n",
    "        Imgarr=cv2.imread(\"Image/darkspots\"+\"/\"+folder+\"/\"+imgName)\r\n",
    "        # there might be images of size less than 100 by 100 and so error occurs\r\n",
    "        try:\r\n",
    "            Imgarr=cv2.resize(Imgarr,(100,100))\r\n",
    "        except: # we need to write atleast one line of code\r\n",
    "            pass\r\n",
    "        else:\r\n",
    "            features_train.append(Imgarr)\r\n",
    "            if folder==\"NoDarkSpots\":\r\n",
    "                target_train.append(0)\r\n",
    "            else:\r\n",
    "                target_train.append(1)"
   ],
   "outputs": [
    {
     "output_type": "stream",
     "name": "stdout",
     "text": [
      "In Folder :  DarkSpots\n",
      "In Folder :  NoDarkSpots\n"
     ]
    }
   ],
   "metadata": {}
  },
  {
   "cell_type": "code",
   "execution_count": 5,
   "source": [
    "features_train=np.array(features_train)\r\n",
    "target_train=np.array(target_train)"
   ],
   "outputs": [],
   "metadata": {}
  },
  {
   "cell_type": "code",
   "execution_count": 6,
   "source": [
    "features_train.shape"
   ],
   "outputs": [
    {
     "output_type": "execute_result",
     "data": {
      "text/plain": [
       "(380, 100, 100, 3)"
      ]
     },
     "metadata": {},
     "execution_count": 6
    }
   ],
   "metadata": {}
  },
  {
   "cell_type": "code",
   "execution_count": 7,
   "source": [
    "target_train.shape"
   ],
   "outputs": [
    {
     "output_type": "execute_result",
     "data": {
      "text/plain": [
       "(380,)"
      ]
     },
     "metadata": {},
     "execution_count": 7
    }
   ],
   "metadata": {}
  },
  {
   "cell_type": "code",
   "execution_count": 8,
   "source": [
    "features_train.ndim"
   ],
   "outputs": [
    {
     "output_type": "execute_result",
     "data": {
      "text/plain": [
       "4"
      ]
     },
     "metadata": {},
     "execution_count": 8
    }
   ],
   "metadata": {}
  },
  {
   "cell_type": "code",
   "execution_count": 9,
   "source": [
    "target_train.ndim"
   ],
   "outputs": [
    {
     "output_type": "execute_result",
     "data": {
      "text/plain": [
       "1"
      ]
     },
     "metadata": {},
     "execution_count": 9
    }
   ],
   "metadata": {}
  },
  {
   "cell_type": "code",
   "execution_count": 10,
   "source": [
    "def preprocessing(image):\r\n",
    "    image=cv2.cvtColor(image,cv2.COLOR_BGR2GRAY)\r\n",
    "    image=image/255\r\n",
    "    return image"
   ],
   "outputs": [],
   "metadata": {}
  },
  {
   "cell_type": "code",
   "execution_count": 11,
   "source": [
    "features_train=np.array(list(map(preprocessing,features_train)))"
   ],
   "outputs": [],
   "metadata": {}
  },
  {
   "cell_type": "code",
   "execution_count": 12,
   "source": [
    "features_train.shape"
   ],
   "outputs": [
    {
     "output_type": "execute_result",
     "data": {
      "text/plain": [
       "(380, 100, 100)"
      ]
     },
     "metadata": {},
     "execution_count": 12
    }
   ],
   "metadata": {}
  },
  {
   "cell_type": "code",
   "execution_count": 13,
   "source": [
    "features_train=features_train.reshape(380, 100, 100,1)"
   ],
   "outputs": [],
   "metadata": {}
  },
  {
   "cell_type": "code",
   "execution_count": 14,
   "source": [
    "from keras.preprocessing.image import ImageDataGenerator"
   ],
   "outputs": [],
   "metadata": {}
  },
  {
   "cell_type": "code",
   "execution_count": 15,
   "source": [
    "dataGen=ImageDataGenerator(rotation_range=10,width_shift_range=0.1,height_shift_range=0.1,zoom_range=0.2,shear_range=0.1)"
   ],
   "outputs": [],
   "metadata": {}
  },
  {
   "cell_type": "code",
   "execution_count": 16,
   "source": [
    "dataGen.fit(features_train)"
   ],
   "outputs": [],
   "metadata": {}
  },
  {
   "cell_type": "code",
   "execution_count": 17,
   "source": [
    "batches=dataGen.flow(features_train,target_train,batch_size=5)"
   ],
   "outputs": [],
   "metadata": {}
  },
  {
   "cell_type": "code",
   "execution_count": 18,
   "source": [
    "len(batches)"
   ],
   "outputs": [
    {
     "output_type": "execute_result",
     "data": {
      "text/plain": [
       "76"
      ]
     },
     "metadata": {},
     "execution_count": 18
    }
   ],
   "metadata": {}
  },
  {
   "cell_type": "code",
   "execution_count": 19,
   "source": [
    "images,labels=next(batches)"
   ],
   "outputs": [],
   "metadata": {}
  },
  {
   "cell_type": "code",
   "execution_count": 20,
   "source": [
    "images.ndim"
   ],
   "outputs": [
    {
     "output_type": "execute_result",
     "data": {
      "text/plain": [
       "4"
      ]
     },
     "metadata": {},
     "execution_count": 20
    }
   ],
   "metadata": {}
  },
  {
   "cell_type": "code",
   "execution_count": 21,
   "source": [
    "labels.shape"
   ],
   "outputs": [
    {
     "output_type": "execute_result",
     "data": {
      "text/plain": [
       "(5,)"
      ]
     },
     "metadata": {},
     "execution_count": 21
    }
   ],
   "metadata": {}
  },
  {
   "cell_type": "code",
   "execution_count": 22,
   "source": [
    "images.shape"
   ],
   "outputs": [
    {
     "output_type": "execute_result",
     "data": {
      "text/plain": [
       "(5, 100, 100, 1)"
      ]
     },
     "metadata": {},
     "execution_count": 22
    }
   ],
   "metadata": {}
  },
  {
   "cell_type": "code",
   "execution_count": 23,
   "source": [
    "import matplotlib.pyplot as plt"
   ],
   "outputs": [],
   "metadata": {}
  },
  {
   "cell_type": "code",
   "execution_count": 24,
   "source": [
    "plt.figure(figsize=(10,10))\r\n",
    "for i in range(5):\r\n",
    "    plt.subplot(1,5,i+1)\r\n",
    "    plt.imshow(images[i].reshape(100,100))\r\n",
    "plt.show()"
   ],
   "outputs": [
    {
     "output_type": "display_data",
     "data": {
      "image/png": "[encoded data removed]",
      "text/plain": [
       "<Figure size 720x720 with 5 Axes>"
      ]
     },
     "metadata": {
      "needs_background": "light"
     }
    }
   ],
   "metadata": {}
  },
  {
   "cell_type": "code",
   "execution_count": 25,
   "source": [
    "features_train.shape"
   ],
   "outputs": [
    {
     "output_type": "execute_result",
     "data": {
      "text/plain": [
       "(380, 100, 100, 1)"
      ]
     },
     "metadata": {},
     "execution_count": 25
    }
   ],
   "metadata": {}
  },
  {
   "cell_type": "code",
   "execution_count": 26,
   "source": [
    "target_train.shape"
   ],
   "outputs": [
    {
     "output_type": "execute_result",
     "data": {
      "text/plain": [
       "(380,)"
      ]
     },
     "metadata": {},
     "execution_count": 26
    }
   ],
   "metadata": {}
  },
  {
   "cell_type": "code",
   "execution_count": 27,
   "source": [
    "from keras.utils.np_utils import to_categorical"
   ],
   "outputs": [],
   "metadata": {}
  },
  {
   "cell_type": "code",
   "execution_count": 28,
   "source": [
    "target_train=to_categorical(target_train)"
   ],
   "outputs": [],
   "metadata": {}
  },
  {
   "cell_type": "code",
   "execution_count": 29,
   "source": [
    "target_train.shape"
   ],
   "outputs": [
    {
     "output_type": "execute_result",
     "data": {
      "text/plain": [
       "(380, 2)"
      ]
     },
     "metadata": {},
     "execution_count": 29
    }
   ],
   "metadata": {}
  },
  {
   "cell_type": "code",
   "execution_count": 30,
   "source": [
    "from keras.layers import Dense,Flatten,Conv2D,MaxPooling2D,Dropout\r\n",
    "from keras.models import Sequential"
   ],
   "outputs": [],
   "metadata": {}
  },
  {
   "cell_type": "code",
   "execution_count": 31,
   "source": [
    "model=Sequential()\r\n",
    "model.add(Conv2D(100,(3,3),activation=\"relu\",input_shape=(100,100,1)))\r\n",
    "model.add(Conv2D(100,(3,3),activation=\"relu\"))\r\n",
    "model.add(MaxPooling2D(2,2))\r\n",
    "model.add(Conv2D(50,(3,3),activation=\"relu\"))\r\n",
    "model.add(Conv2D(50,(3,3),activation=\"relu\"))\r\n",
    "model.add(Conv2D(50,(3,3),activation=\"relu\"))\r\n",
    "model.add(MaxPooling2D(2,2))\r\n",
    "\r\n",
    "#model.add(Dropout(0.5)) # for overfitting model\r\n",
    "\r\n",
    "model.add(Flatten())\r\n",
    "model.add(Dense(500,activation=\"relu\"))\r\n",
    "model.add(Dense(2,activation=\"softmax\")) "
   ],
   "outputs": [],
   "metadata": {}
  },
  {
   "cell_type": "code",
   "execution_count": 32,
   "source": [
    "from keras.optimizers import Adam"
   ],
   "outputs": [],
   "metadata": {}
  },
  {
   "cell_type": "code",
   "execution_count": 33,
   "source": [
    "model.compile(Adam(learning_rate=0.0001),loss=\"categorical_crossentropy\",metrics=[\"accuracy\"])"
   ],
   "outputs": [],
   "metadata": {}
  },
  {
   "cell_type": "code",
   "execution_count": 34,
   "source": [
    "model.fit(dataGen.flow(features_train,target_train,batch_size=5),epochs=10)"
   ],
   "outputs": [
    {
     "output_type": "stream",
     "name": "stdout",
     "text": [
      "Epoch 1/10\n",
      "76/76 [==============================] - 40s 372ms/step - loss: 0.5258 - accuracy: 0.7596\n",
      "Epoch 2/10\n",
      "76/76 [==============================] - 29s 382ms/step - loss: 0.3330 - accuracy: 0.8988\n",
      "Epoch 3/10\n",
      "76/76 [==============================] - 32s 415ms/step - loss: 0.2571 - accuracy: 0.8727\n",
      "Epoch 4/10\n",
      "76/76 [==============================] - 30s 389ms/step - loss: 0.2213 - accuracy: 0.9276\n",
      "Epoch 5/10\n",
      "76/76 [==============================] - 30s 396ms/step - loss: 0.1920 - accuracy: 0.9197\n",
      "Epoch 6/10\n",
      "76/76 [==============================] - 29s 383ms/step - loss: 0.1896 - accuracy: 0.9264\n",
      "Epoch 7/10\n",
      "76/76 [==============================] - 29s 385ms/step - loss: 0.1531 - accuracy: 0.9481\n",
      "Epoch 8/10\n",
      "76/76 [==============================] - 30s 388ms/step - loss: 0.1997 - accuracy: 0.9141\n",
      "Epoch 9/10\n",
      "76/76 [==============================] - 29s 384ms/step - loss: 0.1433 - accuracy: 0.9607\n",
      "Epoch 10/10\n",
      "76/76 [==============================] - 29s 388ms/step - loss: 0.1393 - accuracy: 0.9543\n"
     ]
    },
    {
     "output_type": "execute_result",
     "data": {
      "text/plain": [
       "<keras.callbacks.History at 0x166cd656a30>"
      ]
     },
     "metadata": {},
     "execution_count": 34
    }
   ],
   "metadata": {}
  },
  {
   "cell_type": "code",
   "execution_count": 35,
   "source": [
    "model_json=model.to_json() # converted to json file\r\n",
    "with open(\"DarkSpots.json\",\"w\") as abc:\r\n",
    "    abc.write(model_json)\r\n",
    "    abc.close()\r\n",
    "model.save_weights(\"DarkSpotsWeights.h5\") # saving weights as hdf 5 file\r\n",
    "print(\"Save the Model\")"
   ],
   "outputs": [
    {
     "output_type": "stream",
     "name": "stdout",
     "text": [
      "Save the Model\n"
     ]
    }
   ],
   "metadata": {}
  },
  {
   "cell_type": "code",
   "execution_count": 36,
   "source": [
    "from keras.models import model_from_json\r\n",
    "json_file=open(\"DarkSpots.json\",\"r\")\r\n",
    "loaded_model_json=json_file.read()\r\n",
    "json_file.close()\r\n",
    "loaded_model=model_from_json(loaded_model_json)\r\n",
    "loaded_model.load_weights(\"DarkSpotsWeights.h5\")\r\n",
    "print(\"Loaded model successfully\")"
   ],
   "outputs": [
    {
     "output_type": "stream",
     "name": "stdout",
     "text": [
      "Loaded model successfully\n"
     ]
    }
   ],
   "metadata": {}
  },
  {
   "cell_type": "code",
   "execution_count": 37,
   "source": [
    "def getClassName(classNo):\r\n",
    "    if classNo == 0: return \"No Dark Spots\"\r\n",
    "    elif classNo == 1: return \"Dark Spots\""
   ],
   "outputs": [],
   "metadata": {}
  },
  {
   "cell_type": "code",
   "execution_count": 38,
   "source": [
    "import cv2\r\n",
    "image=cv2.imread(\"cricket.jpg\")"
   ],
   "outputs": [],
   "metadata": {}
  },
  {
   "cell_type": "code",
   "execution_count": 39,
   "source": [
    "cv2.imshow(\"cricket\",image)\r\n",
    "cv2.waitKey(5000)\r\n",
    "cv2.destroyAllWindows()"
   ],
   "outputs": [],
   "metadata": {}
  }
 ],
 "metadata": {
  "kernelspec": {
   "display_name": "Python 3",
   "language": "python",
   "name": "python3"
  },
  "language_info": {
   "codemirror_mode": {
    "name": "ipython",
    "version": 3
   },
   "file_extension": ".py",
   "mimetype": "text/x-python",
   "name": "python",
   "nbconvert_exporter": "python",
   "pygments_lexer": "ipython3",
   "version": "3.8.5"
  }
 },
 "nbformat": 4,
 "nbformat_minor": 5
}